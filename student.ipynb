{
 "cells": [
  {
   "cell_type": "markdown",
   "metadata": {},
   "source": [
    "## Final Project Submission\n",
    "\n",
    "Please fill out:\n",
    "* Student name: Kanwal Arora\n",
    "* Student pace: Part Time\n",
    "* Scheduled project review date/time: \n",
    "* Instructor name: Eli\n",
    "* Blog post URL:\n"
   ]
  },
  {
   "cell_type": "code",
   "execution_count": 1,
   "metadata": {},
   "outputs": [],
   "source": [
    "#!pip install tmdbsimple\n",
    "#!pip install missingno\n",
    "import pandas as pd \n",
    "import sqlite3 as sql \n",
    "import numpy as np \n",
    "import seaborn as sns\n",
    "import matplotlib.pyplot as plt\n",
    "%matplotlib inline"
   ]
  },
  {
   "cell_type": "code",
   "execution_count": 2,
   "metadata": {},
   "outputs": [
    {
     "name": "stdout",
     "output_type": "stream",
     "text": [
      "DataFrame1.csv            imdb.title.basics.csv     \u001b[31mmovies.csv\u001b[m\u001b[m\r\n",
      "bom.movie_gross.csv       imdb.title.crew.csv       rt.movie_info.tsv\r\n",
      "df_profitRatio.csv        imdb.title.principals.csv rt.reviews.tsv\r\n",
      "imdb.name.basics.csv      imdb.title.ratings 2.csv  tmdb.movies.csv\r\n",
      "imdb.title.akas.csv       imdb.title.ratings.csv    tn.movie_budgets.csv\r\n"
     ]
    }
   ],
   "source": [
    "# Your code here - remember to use markdown cells for comments as well!\n",
    "!ls zippedData"
   ]
  },
  {
   "cell_type": "code",
   "execution_count": 4,
   "metadata": {},
   "outputs": [],
   "source": [
    "df_movies = pd.read_csv('zippedData/movies.csv', encoding='latin-1')"
   ]
  },
  {
   "cell_type": "code",
   "execution_count": 5,
   "metadata": {},
   "outputs": [
    {
     "data": {
      "text/html": [
       "<div>\n",
       "<style scoped>\n",
       "    .dataframe tbody tr th:only-of-type {\n",
       "        vertical-align: middle;\n",
       "    }\n",
       "\n",
       "    .dataframe tbody tr th {\n",
       "        vertical-align: top;\n",
       "    }\n",
       "\n",
       "    .dataframe thead th {\n",
       "        text-align: right;\n",
       "    }\n",
       "</style>\n",
       "<table border=\"1\" class=\"dataframe\">\n",
       "  <thead>\n",
       "    <tr style=\"text-align: right;\">\n",
       "      <th></th>\n",
       "      <th>budget</th>\n",
       "      <th>company</th>\n",
       "      <th>country</th>\n",
       "      <th>director</th>\n",
       "      <th>genre</th>\n",
       "      <th>gross</th>\n",
       "      <th>name</th>\n",
       "      <th>rating</th>\n",
       "      <th>released</th>\n",
       "      <th>runtime</th>\n",
       "      <th>score</th>\n",
       "      <th>star</th>\n",
       "      <th>votes</th>\n",
       "      <th>writer</th>\n",
       "      <th>year</th>\n",
       "    </tr>\n",
       "  </thead>\n",
       "  <tbody>\n",
       "    <tr>\n",
       "      <td>0</td>\n",
       "      <td>8000000</td>\n",
       "      <td>Columbia Pictures Corporation</td>\n",
       "      <td>USA</td>\n",
       "      <td>Rob Reiner</td>\n",
       "      <td>Adventure</td>\n",
       "      <td>52287414</td>\n",
       "      <td>Stand by Me</td>\n",
       "      <td>R</td>\n",
       "      <td>22/08/1986</td>\n",
       "      <td>89</td>\n",
       "      <td>8.1</td>\n",
       "      <td>Wil Wheaton</td>\n",
       "      <td>299174</td>\n",
       "      <td>Stephen King</td>\n",
       "      <td>1986</td>\n",
       "    </tr>\n",
       "    <tr>\n",
       "      <td>1</td>\n",
       "      <td>6000000</td>\n",
       "      <td>Paramount Pictures</td>\n",
       "      <td>USA</td>\n",
       "      <td>John Hughes</td>\n",
       "      <td>Comedy</td>\n",
       "      <td>70136369</td>\n",
       "      <td>Ferris Bueller's Day Off</td>\n",
       "      <td>PG-13</td>\n",
       "      <td>11/06/1986</td>\n",
       "      <td>103</td>\n",
       "      <td>7.8</td>\n",
       "      <td>Matthew Broderick</td>\n",
       "      <td>264740</td>\n",
       "      <td>John Hughes</td>\n",
       "      <td>1986</td>\n",
       "    </tr>\n",
       "    <tr>\n",
       "      <td>2</td>\n",
       "      <td>15000000</td>\n",
       "      <td>Paramount Pictures</td>\n",
       "      <td>USA</td>\n",
       "      <td>Tony Scott</td>\n",
       "      <td>Action</td>\n",
       "      <td>179800601</td>\n",
       "      <td>Top Gun</td>\n",
       "      <td>PG</td>\n",
       "      <td>16/05/1986</td>\n",
       "      <td>110</td>\n",
       "      <td>6.9</td>\n",
       "      <td>Tom Cruise</td>\n",
       "      <td>236909</td>\n",
       "      <td>Jim Cash</td>\n",
       "      <td>1986</td>\n",
       "    </tr>\n",
       "    <tr>\n",
       "      <td>3</td>\n",
       "      <td>18500000</td>\n",
       "      <td>Twentieth Century Fox Film Corporation</td>\n",
       "      <td>USA</td>\n",
       "      <td>James Cameron</td>\n",
       "      <td>Action</td>\n",
       "      <td>85160248</td>\n",
       "      <td>Aliens</td>\n",
       "      <td>R</td>\n",
       "      <td>18/07/1986</td>\n",
       "      <td>137</td>\n",
       "      <td>8.4</td>\n",
       "      <td>Sigourney Weaver</td>\n",
       "      <td>540152</td>\n",
       "      <td>James Cameron</td>\n",
       "      <td>1986</td>\n",
       "    </tr>\n",
       "    <tr>\n",
       "      <td>4</td>\n",
       "      <td>9000000</td>\n",
       "      <td>Walt Disney Pictures</td>\n",
       "      <td>USA</td>\n",
       "      <td>Randal Kleiser</td>\n",
       "      <td>Adventure</td>\n",
       "      <td>18564613</td>\n",
       "      <td>Flight of the Navigator</td>\n",
       "      <td>PG</td>\n",
       "      <td>01/08/1986</td>\n",
       "      <td>90</td>\n",
       "      <td>6.9</td>\n",
       "      <td>Joey Cramer</td>\n",
       "      <td>36636</td>\n",
       "      <td>Mark H. Baker</td>\n",
       "      <td>1986</td>\n",
       "    </tr>\n",
       "  </tbody>\n",
       "</table>\n",
       "</div>"
      ],
      "text/plain": [
       "     budget                                 company country        director  \\\n",
       "0   8000000           Columbia Pictures Corporation     USA      Rob Reiner   \n",
       "1   6000000                      Paramount Pictures     USA     John Hughes   \n",
       "2  15000000                      Paramount Pictures     USA      Tony Scott   \n",
       "3  18500000  Twentieth Century Fox Film Corporation     USA   James Cameron   \n",
       "4   9000000                    Walt Disney Pictures     USA  Randal Kleiser   \n",
       "\n",
       "       genre      gross                      name rating    released  runtime  \\\n",
       "0  Adventure   52287414               Stand by Me      R  22/08/1986       89   \n",
       "1     Comedy   70136369  Ferris Bueller's Day Off  PG-13  11/06/1986      103   \n",
       "2     Action  179800601                   Top Gun     PG  16/05/1986      110   \n",
       "3     Action   85160248                    Aliens      R  18/07/1986      137   \n",
       "4  Adventure   18564613   Flight of the Navigator     PG  01/08/1986       90   \n",
       "\n",
       "   score               star   votes         writer  year  \n",
       "0    8.1        Wil Wheaton  299174   Stephen King  1986  \n",
       "1    7.8  Matthew Broderick  264740    John Hughes  1986  \n",
       "2    6.9         Tom Cruise  236909       Jim Cash  1986  \n",
       "3    8.4   Sigourney Weaver  540152  James Cameron  1986  \n",
       "4    6.9        Joey Cramer   36636  Mark H. Baker  1986  "
      ]
     },
     "execution_count": 5,
     "metadata": {},
     "output_type": "execute_result"
    }
   ],
   "source": [
    "# Getting information from movie info tsv file\n",
    "df_movies.head()"
   ]
  },
  {
   "cell_type": "code",
   "execution_count": 6,
   "metadata": {},
   "outputs": [
    {
     "data": {
      "text/html": [
       "<div>\n",
       "<style scoped>\n",
       "    .dataframe tbody tr th:only-of-type {\n",
       "        vertical-align: middle;\n",
       "    }\n",
       "\n",
       "    .dataframe tbody tr th {\n",
       "        vertical-align: top;\n",
       "    }\n",
       "\n",
       "    .dataframe thead th {\n",
       "        text-align: right;\n",
       "    }\n",
       "</style>\n",
       "<table border=\"1\" class=\"dataframe\">\n",
       "  <thead>\n",
       "    <tr style=\"text-align: right;\">\n",
       "      <th></th>\n",
       "      <th>budget</th>\n",
       "      <th>company</th>\n",
       "      <th>country</th>\n",
       "      <th>director</th>\n",
       "      <th>genre</th>\n",
       "      <th>gross</th>\n",
       "      <th>rating</th>\n",
       "      <th>released</th>\n",
       "      <th>runtime</th>\n",
       "      <th>score</th>\n",
       "      <th>star</th>\n",
       "      <th>votes</th>\n",
       "      <th>writer</th>\n",
       "      <th>year</th>\n",
       "    </tr>\n",
       "    <tr>\n",
       "      <th>name</th>\n",
       "      <th></th>\n",
       "      <th></th>\n",
       "      <th></th>\n",
       "      <th></th>\n",
       "      <th></th>\n",
       "      <th></th>\n",
       "      <th></th>\n",
       "      <th></th>\n",
       "      <th></th>\n",
       "      <th></th>\n",
       "      <th></th>\n",
       "      <th></th>\n",
       "      <th></th>\n",
       "      <th></th>\n",
       "    </tr>\n",
       "  </thead>\n",
       "  <tbody>\n",
       "    <tr>\n",
       "      <td>Stand by Me</td>\n",
       "      <td>8000000</td>\n",
       "      <td>Columbia Pictures Corporation</td>\n",
       "      <td>USA</td>\n",
       "      <td>Rob Reiner</td>\n",
       "      <td>Adventure</td>\n",
       "      <td>52287414</td>\n",
       "      <td>R</td>\n",
       "      <td>22/08/1986</td>\n",
       "      <td>89</td>\n",
       "      <td>8.1</td>\n",
       "      <td>Wil Wheaton</td>\n",
       "      <td>299174</td>\n",
       "      <td>Stephen King</td>\n",
       "      <td>1986</td>\n",
       "    </tr>\n",
       "    <tr>\n",
       "      <td>Ferris Bueller's Day Off</td>\n",
       "      <td>6000000</td>\n",
       "      <td>Paramount Pictures</td>\n",
       "      <td>USA</td>\n",
       "      <td>John Hughes</td>\n",
       "      <td>Comedy</td>\n",
       "      <td>70136369</td>\n",
       "      <td>PG-13</td>\n",
       "      <td>11/06/1986</td>\n",
       "      <td>103</td>\n",
       "      <td>7.8</td>\n",
       "      <td>Matthew Broderick</td>\n",
       "      <td>264740</td>\n",
       "      <td>John Hughes</td>\n",
       "      <td>1986</td>\n",
       "    </tr>\n",
       "    <tr>\n",
       "      <td>Top Gun</td>\n",
       "      <td>15000000</td>\n",
       "      <td>Paramount Pictures</td>\n",
       "      <td>USA</td>\n",
       "      <td>Tony Scott</td>\n",
       "      <td>Action</td>\n",
       "      <td>179800601</td>\n",
       "      <td>PG</td>\n",
       "      <td>16/05/1986</td>\n",
       "      <td>110</td>\n",
       "      <td>6.9</td>\n",
       "      <td>Tom Cruise</td>\n",
       "      <td>236909</td>\n",
       "      <td>Jim Cash</td>\n",
       "      <td>1986</td>\n",
       "    </tr>\n",
       "    <tr>\n",
       "      <td>Aliens</td>\n",
       "      <td>18500000</td>\n",
       "      <td>Twentieth Century Fox Film Corporation</td>\n",
       "      <td>USA</td>\n",
       "      <td>James Cameron</td>\n",
       "      <td>Action</td>\n",
       "      <td>85160248</td>\n",
       "      <td>R</td>\n",
       "      <td>18/07/1986</td>\n",
       "      <td>137</td>\n",
       "      <td>8.4</td>\n",
       "      <td>Sigourney Weaver</td>\n",
       "      <td>540152</td>\n",
       "      <td>James Cameron</td>\n",
       "      <td>1986</td>\n",
       "    </tr>\n",
       "    <tr>\n",
       "      <td>Flight of the Navigator</td>\n",
       "      <td>9000000</td>\n",
       "      <td>Walt Disney Pictures</td>\n",
       "      <td>USA</td>\n",
       "      <td>Randal Kleiser</td>\n",
       "      <td>Adventure</td>\n",
       "      <td>18564613</td>\n",
       "      <td>PG</td>\n",
       "      <td>01/08/1986</td>\n",
       "      <td>90</td>\n",
       "      <td>6.9</td>\n",
       "      <td>Joey Cramer</td>\n",
       "      <td>36636</td>\n",
       "      <td>Mark H. Baker</td>\n",
       "      <td>1986</td>\n",
       "    </tr>\n",
       "    <tr>\n",
       "      <td>...</td>\n",
       "      <td>...</td>\n",
       "      <td>...</td>\n",
       "      <td>...</td>\n",
       "      <td>...</td>\n",
       "      <td>...</td>\n",
       "      <td>...</td>\n",
       "      <td>...</td>\n",
       "      <td>...</td>\n",
       "      <td>...</td>\n",
       "      <td>...</td>\n",
       "      <td>...</td>\n",
       "      <td>...</td>\n",
       "      <td>...</td>\n",
       "      <td>...</td>\n",
       "    </tr>\n",
       "    <tr>\n",
       "      <td>Absolutely Fabulous: The Movie</td>\n",
       "      <td>0</td>\n",
       "      <td>Fox Searchlight Pictures</td>\n",
       "      <td>UK</td>\n",
       "      <td>Mandie Fletcher</td>\n",
       "      <td>Comedy</td>\n",
       "      <td>4750497</td>\n",
       "      <td>R</td>\n",
       "      <td>22/07/2016</td>\n",
       "      <td>91</td>\n",
       "      <td>5.4</td>\n",
       "      <td>Jennifer Saunders</td>\n",
       "      <td>9161</td>\n",
       "      <td>Jennifer Saunders</td>\n",
       "      <td>2016</td>\n",
       "    </tr>\n",
       "    <tr>\n",
       "      <td>Mothers and Daughters</td>\n",
       "      <td>0</td>\n",
       "      <td>Siempre Viva Productions</td>\n",
       "      <td>USA</td>\n",
       "      <td>Paul Duddridge</td>\n",
       "      <td>Drama</td>\n",
       "      <td>28368</td>\n",
       "      <td>PG-13</td>\n",
       "      <td>06/05/2016</td>\n",
       "      <td>90</td>\n",
       "      <td>4.9</td>\n",
       "      <td>Selma Blair</td>\n",
       "      <td>1959</td>\n",
       "      <td>Paige Cameron</td>\n",
       "      <td>2016</td>\n",
       "    </tr>\n",
       "    <tr>\n",
       "      <td>Batman: The Killing Joke</td>\n",
       "      <td>3500000</td>\n",
       "      <td>Warner Bros. Animation</td>\n",
       "      <td>USA</td>\n",
       "      <td>Sam Liu</td>\n",
       "      <td>Animation</td>\n",
       "      <td>3775000</td>\n",
       "      <td>R</td>\n",
       "      <td>25/07/2016</td>\n",
       "      <td>76</td>\n",
       "      <td>6.5</td>\n",
       "      <td>Kevin Conroy</td>\n",
       "      <td>36333</td>\n",
       "      <td>Brian Azzarello</td>\n",
       "      <td>2016</td>\n",
       "    </tr>\n",
       "    <tr>\n",
       "      <td>The Eyes of My Mother</td>\n",
       "      <td>0</td>\n",
       "      <td>Borderline Presents</td>\n",
       "      <td>USA</td>\n",
       "      <td>Nicolas Pesce</td>\n",
       "      <td>Drama</td>\n",
       "      <td>25981</td>\n",
       "      <td>R</td>\n",
       "      <td>02/12/2016</td>\n",
       "      <td>76</td>\n",
       "      <td>6.2</td>\n",
       "      <td>Kika MagalhÃ£es</td>\n",
       "      <td>6947</td>\n",
       "      <td>Nicolas Pesce</td>\n",
       "      <td>2016</td>\n",
       "    </tr>\n",
       "    <tr>\n",
       "      <td>From the Land of the Moon</td>\n",
       "      <td>0</td>\n",
       "      <td>Les Productions du TrÃ©sor</td>\n",
       "      <td>France</td>\n",
       "      <td>Nicole Garcia</td>\n",
       "      <td>Drama</td>\n",
       "      <td>37757</td>\n",
       "      <td>R</td>\n",
       "      <td>28/07/2017</td>\n",
       "      <td>120</td>\n",
       "      <td>6.7</td>\n",
       "      <td>Marion Cotillard</td>\n",
       "      <td>2411</td>\n",
       "      <td>Milena Agus</td>\n",
       "      <td>2016</td>\n",
       "    </tr>\n",
       "  </tbody>\n",
       "</table>\n",
       "<p>6820 rows × 14 columns</p>\n",
       "</div>"
      ],
      "text/plain": [
       "                                  budget  \\\n",
       "name                                       \n",
       "Stand by Me                      8000000   \n",
       "Ferris Bueller's Day Off         6000000   \n",
       "Top Gun                         15000000   \n",
       "Aliens                          18500000   \n",
       "Flight of the Navigator          9000000   \n",
       "...                                  ...   \n",
       "Absolutely Fabulous: The Movie         0   \n",
       "Mothers and Daughters                  0   \n",
       "Batman: The Killing Joke         3500000   \n",
       "The Eyes of My Mother                  0   \n",
       "From the Land of the Moon              0   \n",
       "\n",
       "                                                               company  \\\n",
       "name                                                                     \n",
       "Stand by Me                              Columbia Pictures Corporation   \n",
       "Ferris Bueller's Day Off                            Paramount Pictures   \n",
       "Top Gun                                             Paramount Pictures   \n",
       "Aliens                          Twentieth Century Fox Film Corporation   \n",
       "Flight of the Navigator                           Walt Disney Pictures   \n",
       "...                                                                ...   \n",
       "Absolutely Fabulous: The Movie                Fox Searchlight Pictures   \n",
       "Mothers and Daughters                         Siempre Viva Productions   \n",
       "Batman: The Killing Joke                        Warner Bros. Animation   \n",
       "The Eyes of My Mother                              Borderline Presents   \n",
       "From the Land of the Moon                   Les Productions du TrÃ©sor   \n",
       "\n",
       "                               country         director      genre      gross  \\\n",
       "name                                                                            \n",
       "Stand by Me                        USA       Rob Reiner  Adventure   52287414   \n",
       "Ferris Bueller's Day Off           USA      John Hughes     Comedy   70136369   \n",
       "Top Gun                            USA       Tony Scott     Action  179800601   \n",
       "Aliens                             USA    James Cameron     Action   85160248   \n",
       "Flight of the Navigator            USA   Randal Kleiser  Adventure   18564613   \n",
       "...                                ...              ...        ...        ...   \n",
       "Absolutely Fabulous: The Movie      UK  Mandie Fletcher     Comedy    4750497   \n",
       "Mothers and Daughters              USA   Paul Duddridge      Drama      28368   \n",
       "Batman: The Killing Joke           USA          Sam Liu  Animation    3775000   \n",
       "The Eyes of My Mother              USA    Nicolas Pesce      Drama      25981   \n",
       "From the Land of the Moon       France    Nicole Garcia      Drama      37757   \n",
       "\n",
       "                               rating    released  runtime  score  \\\n",
       "name                                                                \n",
       "Stand by Me                         R  22/08/1986       89    8.1   \n",
       "Ferris Bueller's Day Off        PG-13  11/06/1986      103    7.8   \n",
       "Top Gun                            PG  16/05/1986      110    6.9   \n",
       "Aliens                              R  18/07/1986      137    8.4   \n",
       "Flight of the Navigator            PG  01/08/1986       90    6.9   \n",
       "...                               ...         ...      ...    ...   \n",
       "Absolutely Fabulous: The Movie      R  22/07/2016       91    5.4   \n",
       "Mothers and Daughters           PG-13  06/05/2016       90    4.9   \n",
       "Batman: The Killing Joke            R  25/07/2016       76    6.5   \n",
       "The Eyes of My Mother               R  02/12/2016       76    6.2   \n",
       "From the Land of the Moon           R  28/07/2017      120    6.7   \n",
       "\n",
       "                                             star   votes             writer  \\\n",
       "name                                                                           \n",
       "Stand by Me                           Wil Wheaton  299174       Stephen King   \n",
       "Ferris Bueller's Day Off        Matthew Broderick  264740        John Hughes   \n",
       "Top Gun                                Tom Cruise  236909           Jim Cash   \n",
       "Aliens                           Sigourney Weaver  540152      James Cameron   \n",
       "Flight of the Navigator               Joey Cramer   36636      Mark H. Baker   \n",
       "...                                           ...     ...                ...   \n",
       "Absolutely Fabulous: The Movie  Jennifer Saunders    9161  Jennifer Saunders   \n",
       "Mothers and Daughters                 Selma Blair    1959      Paige Cameron   \n",
       "Batman: The Killing Joke             Kevin Conroy   36333    Brian Azzarello   \n",
       "The Eyes of My Mother             Kika MagalhÃ£es    6947      Nicolas Pesce   \n",
       "From the Land of the Moon        Marion Cotillard    2411        Milena Agus   \n",
       "\n",
       "                                year  \n",
       "name                                  \n",
       "Stand by Me                     1986  \n",
       "Ferris Bueller's Day Off        1986  \n",
       "Top Gun                         1986  \n",
       "Aliens                          1986  \n",
       "Flight of the Navigator         1986  \n",
       "...                              ...  \n",
       "Absolutely Fabulous: The Movie  2016  \n",
       "Mothers and Daughters           2016  \n",
       "Batman: The Killing Joke        2016  \n",
       "The Eyes of My Mother           2016  \n",
       "From the Land of the Moon       2016  \n",
       "\n",
       "[6820 rows x 14 columns]"
      ]
     },
     "execution_count": 6,
     "metadata": {},
     "output_type": "execute_result"
    }
   ],
   "source": [
    "#Changing the index to name\n",
    "df_movies.set_index('name')"
   ]
  },
  {
   "cell_type": "code",
   "execution_count": 7,
   "metadata": {},
   "outputs": [
    {
     "data": {
      "text/plain": [
       "0        8000000\n",
       "1        6000000\n",
       "2       15000000\n",
       "3       18500000\n",
       "4        9000000\n",
       "          ...   \n",
       "6815           0\n",
       "6816           0\n",
       "6817     3500000\n",
       "6818           0\n",
       "6819           0\n",
       "Name: budget, Length: 6820, dtype: int64"
      ]
     },
     "execution_count": 7,
     "metadata": {},
     "output_type": "execute_result"
    }
   ],
   "source": [
    "# Extracting information from IMDB Title Basics Csv File\n",
    "df_movies['gross'].astype(int)\n",
    "df_movies['budget'].astype(int)"
   ]
  },
  {
   "cell_type": "markdown",
   "metadata": {},
   "source": [
    "# Lets find out average length of the movie"
   ]
  },
  {
   "cell_type": "code",
   "execution_count": 68,
   "metadata": {},
   "outputs": [
    {
     "data": {
      "image/png": "[encoded data removed]",
      "text/plain": [
       "<Figure size 432x288 with 1 Axes>"
      ]
     },
     "metadata": {
      "needs_background": "light"
     },
     "output_type": "display_data"
    }
   ],
   "source": [
    "ax = sns.regplot(x = 'runtime',y = 'gross', data = df_movies )"
   ]
  },
  {
   "cell_type": "code",
   "execution_count": 14,
   "metadata": {},
   "outputs": [],
   "source": [
    "# Find out the movie count of each genre\n",
    "genre_count = pd.crosstab(index=df_movies['genre'], columns='count')"
   ]
  },
  {
   "cell_type": "code",
   "execution_count": 16,
   "metadata": {},
   "outputs": [
    {
     "data": {
      "text/plain": [
       "genre\n",
       "Comedy       2080\n",
       "Drama        1444\n",
       "Action       1331\n",
       "Crime         522\n",
       "Adventure     392\n",
       "Biography     359\n",
       "Animation     277\n",
       "Horror        277\n",
       "Mystery        38\n",
       "Fantasy        32\n",
       "Thriller       18\n",
       "Romance        15\n",
       "Family         14\n",
       "Sci-Fi         13\n",
       "Musical         4\n",
       "War             2\n",
       "Western         2\n",
       "Name: count, dtype: int64"
      ]
     },
     "execution_count": 16,
     "metadata": {},
     "output_type": "execute_result"
    }
   ],
   "source": [
    "#There are more comedy movies than anyhting by a wide margin. \n",
    "genre_count['count'].sort_values(ascending = False)"
   ]
  },
  {
   "cell_type": "code",
   "execution_count": 23,
   "metadata": {},
   "outputs": [
    {
     "data": {
      "image/png": "[encoded data removed]",
      "text/plain": [
       "<Figure size 432x288 with 1 Axes>"
      ]
     },
     "metadata": {
      "needs_background": "light"
     },
     "output_type": "display_data"
    }
   ],
   "source": [
    "genre_count.plot(kind='barh');"
   ]
  },
  {
   "cell_type": "code",
   "execution_count": 29,
   "metadata": {},
   "outputs": [
    {
     "data": {
      "text/html": [
       "<div>\n",
       "<style scoped>\n",
       "    .dataframe tbody tr th:only-of-type {\n",
       "        vertical-align: middle;\n",
       "    }\n",
       "\n",
       "    .dataframe tbody tr th {\n",
       "        vertical-align: top;\n",
       "    }\n",
       "\n",
       "    .dataframe thead th {\n",
       "        text-align: right;\n",
       "    }\n",
       "</style>\n",
       "<table border=\"1\" class=\"dataframe\">\n",
       "  <thead>\n",
       "    <tr style=\"text-align: right;\">\n",
       "      <th></th>\n",
       "      <th>genre</th>\n",
       "      <th>budget</th>\n",
       "      <th>gross</th>\n",
       "      <th>runtime</th>\n",
       "      <th>rating</th>\n",
       "      <th>company</th>\n",
       "      <th>director</th>\n",
       "      <th>year</th>\n",
       "    </tr>\n",
       "  </thead>\n",
       "  <tbody>\n",
       "    <tr>\n",
       "      <td>6380</td>\n",
       "      <td>Action</td>\n",
       "      <td>245000000</td>\n",
       "      <td>936662225</td>\n",
       "      <td>136</td>\n",
       "      <td>PG-13</td>\n",
       "      <td>Lucasfilm</td>\n",
       "      <td>J.J. Abrams</td>\n",
       "      <td>2015</td>\n",
       "    </tr>\n",
       "    <tr>\n",
       "      <td>5061</td>\n",
       "      <td>Action</td>\n",
       "      <td>237000000</td>\n",
       "      <td>760507625</td>\n",
       "      <td>162</td>\n",
       "      <td>PG-13</td>\n",
       "      <td>Twentieth Century Fox Film Corporation</td>\n",
       "      <td>James Cameron</td>\n",
       "      <td>2009</td>\n",
       "    </tr>\n",
       "    <tr>\n",
       "      <td>2420</td>\n",
       "      <td>Drama</td>\n",
       "      <td>200000000</td>\n",
       "      <td>658672302</td>\n",
       "      <td>194</td>\n",
       "      <td>PG-13</td>\n",
       "      <td>Twentieth Century Fox Film Corporation</td>\n",
       "      <td>James Cameron</td>\n",
       "      <td>1997</td>\n",
       "    </tr>\n",
       "    <tr>\n",
       "      <td>6391</td>\n",
       "      <td>Action</td>\n",
       "      <td>150000000</td>\n",
       "      <td>652270625</td>\n",
       "      <td>124</td>\n",
       "      <td>PG-13</td>\n",
       "      <td>Universal Pictures</td>\n",
       "      <td>Colin Trevorrow</td>\n",
       "      <td>2015</td>\n",
       "    </tr>\n",
       "    <tr>\n",
       "      <td>5723</td>\n",
       "      <td>Action</td>\n",
       "      <td>220000000</td>\n",
       "      <td>623357910</td>\n",
       "      <td>143</td>\n",
       "      <td>PG-13</td>\n",
       "      <td>Marvel Studios</td>\n",
       "      <td>Joss Whedon</td>\n",
       "      <td>2012</td>\n",
       "    </tr>\n",
       "  </tbody>\n",
       "</table>\n",
       "</div>"
      ],
      "text/plain": [
       "       genre     budget      gross  runtime rating  \\\n",
       "6380  Action  245000000  936662225      136  PG-13   \n",
       "5061  Action  237000000  760507625      162  PG-13   \n",
       "2420   Drama  200000000  658672302      194  PG-13   \n",
       "6391  Action  150000000  652270625      124  PG-13   \n",
       "5723  Action  220000000  623357910      143  PG-13   \n",
       "\n",
       "                                     company         director  year  \n",
       "6380                               Lucasfilm      J.J. Abrams  2015  \n",
       "5061  Twentieth Century Fox Film Corporation    James Cameron  2009  \n",
       "2420  Twentieth Century Fox Film Corporation    James Cameron  1997  \n",
       "6391                      Universal Pictures  Colin Trevorrow  2015  \n",
       "5723                          Marvel Studios      Joss Whedon  2012  "
      ]
     },
     "execution_count": 29,
     "metadata": {},
     "output_type": "execute_result"
    }
   ],
   "source": [
    "# Extracting information from BOM Movie Gross Csv File\n",
    "df_movies = df_movies[['genre', 'budget', 'gross', 'runtime', 'rating', 'company', 'director', 'year']] #william adams\n",
    "df_movies.sort_values(by=['gross', 'budget'], ascending=False, inplace=True)\n",
    "\n",
    "df_movies.head()"
   ]
  },
  {
   "cell_type": "code",
   "execution_count": 32,
   "metadata": {},
   "outputs": [
    {
     "data": {
      "text/html": [
       "<div>\n",
       "<style scoped>\n",
       "    .dataframe tbody tr th:only-of-type {\n",
       "        vertical-align: middle;\n",
       "    }\n",
       "\n",
       "    .dataframe tbody tr th {\n",
       "        vertical-align: top;\n",
       "    }\n",
       "\n",
       "    .dataframe thead th {\n",
       "        text-align: right;\n",
       "    }\n",
       "</style>\n",
       "<table border=\"1\" class=\"dataframe\">\n",
       "  <thead>\n",
       "    <tr style=\"text-align: right;\">\n",
       "      <th></th>\n",
       "      <th>genre</th>\n",
       "      <th>budget</th>\n",
       "      <th>gross</th>\n",
       "      <th>runtime</th>\n",
       "      <th>rating</th>\n",
       "      <th>company</th>\n",
       "      <th>director</th>\n",
       "      <th>year</th>\n",
       "    </tr>\n",
       "  </thead>\n",
       "  <tbody>\n",
       "    <tr>\n",
       "      <td>6380</td>\n",
       "      <td>Action</td>\n",
       "      <td>245000000</td>\n",
       "      <td>936662225</td>\n",
       "      <td>136</td>\n",
       "      <td>PG-13</td>\n",
       "      <td>Lucasfilm</td>\n",
       "      <td>J.J. Abrams</td>\n",
       "      <td>2015</td>\n",
       "    </tr>\n",
       "    <tr>\n",
       "      <td>5061</td>\n",
       "      <td>Action</td>\n",
       "      <td>237000000</td>\n",
       "      <td>760507625</td>\n",
       "      <td>162</td>\n",
       "      <td>PG-13</td>\n",
       "      <td>Twentieth Century Fox Film Corporation</td>\n",
       "      <td>James Cameron</td>\n",
       "      <td>2009</td>\n",
       "    </tr>\n",
       "    <tr>\n",
       "      <td>2420</td>\n",
       "      <td>Drama</td>\n",
       "      <td>200000000</td>\n",
       "      <td>658672302</td>\n",
       "      <td>194</td>\n",
       "      <td>PG-13</td>\n",
       "      <td>Twentieth Century Fox Film Corporation</td>\n",
       "      <td>James Cameron</td>\n",
       "      <td>1997</td>\n",
       "    </tr>\n",
       "    <tr>\n",
       "      <td>6391</td>\n",
       "      <td>Action</td>\n",
       "      <td>150000000</td>\n",
       "      <td>652270625</td>\n",
       "      <td>124</td>\n",
       "      <td>PG-13</td>\n",
       "      <td>Universal Pictures</td>\n",
       "      <td>Colin Trevorrow</td>\n",
       "      <td>2015</td>\n",
       "    </tr>\n",
       "    <tr>\n",
       "      <td>5723</td>\n",
       "      <td>Action</td>\n",
       "      <td>220000000</td>\n",
       "      <td>623357910</td>\n",
       "      <td>143</td>\n",
       "      <td>PG-13</td>\n",
       "      <td>Marvel Studios</td>\n",
       "      <td>Joss Whedon</td>\n",
       "      <td>2012</td>\n",
       "    </tr>\n",
       "    <tr>\n",
       "      <td>...</td>\n",
       "      <td>...</td>\n",
       "      <td>...</td>\n",
       "      <td>...</td>\n",
       "      <td>...</td>\n",
       "      <td>...</td>\n",
       "      <td>...</td>\n",
       "      <td>...</td>\n",
       "      <td>...</td>\n",
       "    </tr>\n",
       "    <tr>\n",
       "      <td>4685</td>\n",
       "      <td>Animation</td>\n",
       "      <td>75000000</td>\n",
       "      <td>183135014</td>\n",
       "      <td>87</td>\n",
       "      <td>PG-13</td>\n",
       "      <td>Twentieth Century Fox Film Corporation</td>\n",
       "      <td>David Silverman</td>\n",
       "      <td>2007</td>\n",
       "    </tr>\n",
       "    <tr>\n",
       "      <td>3111</td>\n",
       "      <td>Comedy</td>\n",
       "      <td>70000000</td>\n",
       "      <td>182811707</td>\n",
       "      <td>127</td>\n",
       "      <td>PG-13</td>\n",
       "      <td>Paramount Pictures</td>\n",
       "      <td>Nancy Meyers</td>\n",
       "      <td>2000</td>\n",
       "    </tr>\n",
       "    <tr>\n",
       "      <td>3135</td>\n",
       "      <td>Action</td>\n",
       "      <td>140000000</td>\n",
       "      <td>182618434</td>\n",
       "      <td>130</td>\n",
       "      <td>PG-13</td>\n",
       "      <td>Warner Bros.</td>\n",
       "      <td>Wolfgang Petersen</td>\n",
       "      <td>2000</td>\n",
       "    </tr>\n",
       "    <tr>\n",
       "      <td>5758</td>\n",
       "      <td>Biography</td>\n",
       "      <td>65000000</td>\n",
       "      <td>182207973</td>\n",
       "      <td>150</td>\n",
       "      <td>PG-13</td>\n",
       "      <td>DreamWorks</td>\n",
       "      <td>Steven Spielberg</td>\n",
       "      <td>2012</td>\n",
       "    </tr>\n",
       "    <tr>\n",
       "      <td>2452</td>\n",
       "      <td>Comedy</td>\n",
       "      <td>45000000</td>\n",
       "      <td>181410615</td>\n",
       "      <td>86</td>\n",
       "      <td>PG-13</td>\n",
       "      <td>Universal Pictures</td>\n",
       "      <td>Tom Shadyac</td>\n",
       "      <td>1997</td>\n",
       "    </tr>\n",
       "  </tbody>\n",
       "</table>\n",
       "<p>200 rows × 8 columns</p>\n",
       "</div>"
      ],
      "text/plain": [
       "          genre     budget      gross  runtime rating  \\\n",
       "6380     Action  245000000  936662225      136  PG-13   \n",
       "5061     Action  237000000  760507625      162  PG-13   \n",
       "2420      Drama  200000000  658672302      194  PG-13   \n",
       "6391     Action  150000000  652270625      124  PG-13   \n",
       "5723     Action  220000000  623357910      143  PG-13   \n",
       "...         ...        ...        ...      ...    ...   \n",
       "4685  Animation   75000000  183135014       87  PG-13   \n",
       "3111     Comedy   70000000  182811707      127  PG-13   \n",
       "3135     Action  140000000  182618434      130  PG-13   \n",
       "5758  Biography   65000000  182207973      150  PG-13   \n",
       "2452     Comedy   45000000  181410615       86  PG-13   \n",
       "\n",
       "                                     company           director  year  \n",
       "6380                               Lucasfilm        J.J. Abrams  2015  \n",
       "5061  Twentieth Century Fox Film Corporation      James Cameron  2009  \n",
       "2420  Twentieth Century Fox Film Corporation      James Cameron  1997  \n",
       "6391                      Universal Pictures    Colin Trevorrow  2015  \n",
       "5723                          Marvel Studios        Joss Whedon  2012  \n",
       "...                                      ...                ...   ...  \n",
       "4685  Twentieth Century Fox Film Corporation    David Silverman  2007  \n",
       "3111                      Paramount Pictures       Nancy Meyers  2000  \n",
       "3135                            Warner Bros.  Wolfgang Petersen  2000  \n",
       "5758                              DreamWorks   Steven Spielberg  2012  \n",
       "2452                      Universal Pictures        Tom Shadyac  1997  \n",
       "\n",
       "[200 rows x 8 columns]"
      ]
     },
     "execution_count": 32,
     "metadata": {},
     "output_type": "execute_result"
    }
   ],
   "source": [
    "Best_movies = df_movies[:200]\n",
    "Best_movies"
   ]
  },
  {
   "cell_type": "code",
   "execution_count": 76,
   "metadata": {},
   "outputs": [
    {
     "data": {
      "image/png": "[encoded data removed]",
      "text/plain": [
       "<Figure size 1080x360 with 1 Axes>"
      ]
     },
     "metadata": {
      "needs_background": "light"
     },
     "output_type": "display_data"
    }
   ],
   "source": [
    "#graph the ratings and profit of the top 100 movies\n",
    "sns.catplot(x='rating', y = 'gross', data=Best_movies, hue='rating', kind='bar', aspect=3);"
   ]
  },
  {
   "cell_type": "code",
   "execution_count": 34,
   "metadata": {},
   "outputs": [
    {
     "data": {
      "text/plain": [
       "director\n",
       "Peter Jackson        7\n",
       "Steven Spielberg     7\n",
       "Michael Bay          6\n",
       "David Yates          5\n",
       "Christopher Nolan    5\n",
       "Francis Lawrence     4\n",
       "John Lasseter        4\n",
       "Sam Raimi            4\n",
       "Chris Columbus       4\n",
       "George Lucas         3\n",
       "Bryan Singer         3\n",
       "Pete Docter          3\n",
       "Name: count, dtype: int64"
      ]
     },
     "execution_count": 34,
     "metadata": {},
     "output_type": "execute_result"
    }
   ],
   "source": [
    "#Check to see which directors appear the most in the top 100 movies sorted by profit.\n",
    "director = pd.crosstab(index=Best_movies['director'], columns='count')\n",
    "director['count'].sort_values(ascending = False).head(12)"
   ]
  },
  {
   "cell_type": "code",
   "execution_count": 37,
   "metadata": {},
   "outputs": [
    {
     "data": {
      "text/plain": [
       "<matplotlib.axes._subplots.AxesSubplot at 0x1a2164f7f0>"
      ]
     },
     "execution_count": 37,
     "metadata": {},
     "output_type": "execute_result"
    },
    {
     "data": {
      "image/png": "[encoded data removed]",
      "text/plain": [
       "<Figure size 432x288 with 1 Axes>"
      ]
     },
     "metadata": {},
     "output_type": "display_data"
    }
   ],
   "source": [
    "#make a simple graph of the above results.\n",
    "director['count'].sort_values(ascending = False).head(12).plot(kind='pie')"
   ]
  },
  {
   "cell_type": "code",
   "execution_count": 38,
   "metadata": {},
   "outputs": [
    {
     "data": {
      "text/html": [
       "<div>\n",
       "<style scoped>\n",
       "    .dataframe tbody tr th:only-of-type {\n",
       "        vertical-align: middle;\n",
       "    }\n",
       "\n",
       "    .dataframe tbody tr th {\n",
       "        vertical-align: top;\n",
       "    }\n",
       "\n",
       "    .dataframe thead th {\n",
       "        text-align: right;\n",
       "    }\n",
       "</style>\n",
       "<table border=\"1\" class=\"dataframe\">\n",
       "  <thead>\n",
       "    <tr style=\"text-align: right;\">\n",
       "      <th></th>\n",
       "      <th>director</th>\n",
       "      <th>gross</th>\n",
       "    </tr>\n",
       "  </thead>\n",
       "  <tbody>\n",
       "    <tr>\n",
       "      <td>6380</td>\n",
       "      <td>J.J. Abrams</td>\n",
       "      <td>936662225</td>\n",
       "    </tr>\n",
       "    <tr>\n",
       "      <td>5061</td>\n",
       "      <td>James Cameron</td>\n",
       "      <td>760507625</td>\n",
       "    </tr>\n",
       "    <tr>\n",
       "      <td>2420</td>\n",
       "      <td>James Cameron</td>\n",
       "      <td>658672302</td>\n",
       "    </tr>\n",
       "    <tr>\n",
       "      <td>6391</td>\n",
       "      <td>Colin Trevorrow</td>\n",
       "      <td>652270625</td>\n",
       "    </tr>\n",
       "    <tr>\n",
       "      <td>5723</td>\n",
       "      <td>Joss Whedon</td>\n",
       "      <td>623357910</td>\n",
       "    </tr>\n",
       "    <tr>\n",
       "      <td>4840</td>\n",
       "      <td>Christopher Nolan</td>\n",
       "      <td>534858444</td>\n",
       "    </tr>\n",
       "    <tr>\n",
       "      <td>6614</td>\n",
       "      <td>Gareth Edwards</td>\n",
       "      <td>532177324</td>\n",
       "    </tr>\n",
       "    <tr>\n",
       "      <td>6687</td>\n",
       "      <td>Andrew Stanton</td>\n",
       "      <td>486295561</td>\n",
       "    </tr>\n",
       "    <tr>\n",
       "      <td>2870</td>\n",
       "      <td>George Lucas</td>\n",
       "      <td>474544677</td>\n",
       "    </tr>\n",
       "    <tr>\n",
       "      <td>6398</td>\n",
       "      <td>Joss Whedon</td>\n",
       "      <td>459005868</td>\n",
       "    </tr>\n",
       "  </tbody>\n",
       "</table>\n",
       "</div>"
      ],
      "text/plain": [
       "               director      gross\n",
       "6380        J.J. Abrams  936662225\n",
       "5061      James Cameron  760507625\n",
       "2420      James Cameron  658672302\n",
       "6391    Colin Trevorrow  652270625\n",
       "5723        Joss Whedon  623357910\n",
       "4840  Christopher Nolan  534858444\n",
       "6614     Gareth Edwards  532177324\n",
       "6687     Andrew Stanton  486295561\n",
       "2870       George Lucas  474544677\n",
       "6398        Joss Whedon  459005868"
      ]
     },
     "execution_count": 38,
     "metadata": {},
     "output_type": "execute_result"
    }
   ],
   "source": [
    "# check to see who directored the highest grossing movies and print the top 10.\n",
    "d_p10 = Best_movies[['director','gross']]\n",
    "d_p10.head(10)"
   ]
  },
  {
   "cell_type": "code",
   "execution_count": 39,
   "metadata": {},
   "outputs": [
    {
     "data": {
      "text/plain": [
       "Joss Whedon          2\n",
       "James Cameron        2\n",
       "Christopher Nolan    1\n",
       "Gareth Edwards       1\n",
       "George Lucas         1\n",
       "J.J. Abrams          1\n",
       "Andrew Stanton       1\n",
       "Colin Trevorrow      1\n",
       "Name: director, dtype: int64"
      ]
     },
     "execution_count": 39,
     "metadata": {},
     "output_type": "execute_result"
    }
   ],
   "source": [
    "#Out of the top 10 movies sorted by profit, check to see if anyone appears more than once.\n",
    "Best_dir = d_p10.head(10)\n",
    "Best_dir['director'].value_counts(ascending=False)"
   ]
  },
  {
   "cell_type": "code",
   "execution_count": 46,
   "metadata": {},
   "outputs": [
    {
     "data": {
      "image/png": "[encoded data removed]",
      "text/plain": [
       "<Figure size 1080x360 with 1 Axes>"
      ]
     },
     "metadata": {
      "needs_background": "light"
     },
     "output_type": "display_data"
    }
   ],
   "source": [
    "sns.catplot(x='director', y = 'gross', data=Best_dir , kind = 'violin', aspect = 3);"
   ]
  },
  {
   "cell_type": "markdown",
   "metadata": {},
   "source": [
    "# Top 200 movies and the money they made by genre."
   ]
  },
  {
   "cell_type": "code",
   "execution_count": 47,
   "metadata": {},
   "outputs": [
    {
     "data": {
      "text/plain": [
       "Comedy       2080\n",
       "Drama        1444\n",
       "Action       1331\n",
       "Crime         522\n",
       "Adventure     392\n",
       "Biography     359\n",
       "Horror        277\n",
       "Animation     277\n",
       "Mystery        38\n",
       "Fantasy        32\n",
       "Thriller       18\n",
       "Romance        15\n",
       "Family         14\n",
       "Sci-Fi         13\n",
       "Musical         4\n",
       "War             2\n",
       "Western         2\n",
       "Name: genre, dtype: int64"
      ]
     },
     "execution_count": 47,
     "metadata": {},
     "output_type": "execute_result"
    }
   ],
   "source": [
    "df_movies['genre'].value_counts()"
   ]
  },
  {
   "cell_type": "code",
   "execution_count": 52,
   "metadata": {},
   "outputs": [
    {
     "data": {
      "image/png": "[encoded data removed]",
      "text/plain": [
       "<Figure size 432x288 with 1 Axes>"
      ]
     },
     "metadata": {
      "needs_background": "light"
     },
     "output_type": "display_data"
    }
   ],
   "source": [
    "sns.scatterplot(x='gross', y='genre', data=df_movies);"
   ]
  },
  {
   "cell_type": "code",
   "execution_count": 53,
   "metadata": {},
   "outputs": [
    {
     "data": {
      "image/png": "[encoded data removed]",
      "text/plain": [
       "<Figure size 1080x360 with 1 Axes>"
      ]
     },
     "metadata": {
      "needs_background": "light"
     },
     "output_type": "display_data"
    }
   ],
   "source": [
    "sns.catplot(x='genre', y='budget', data=df_movies, kind='bar', aspect=3 );"
   ]
  },
  {
   "cell_type": "code",
   "execution_count": 61,
   "metadata": {},
   "outputs": [],
   "source": [
    "Top_200 = Best_movies.nlargest(200, columns='gross')"
   ]
  },
  {
   "cell_type": "code",
   "execution_count": 62,
   "metadata": {},
   "outputs": [
    {
     "data": {
      "image/png": "[encoded data removed]",
      "text/plain": [
       "<Figure size 432x288 with 1 Axes>"
      ]
     },
     "metadata": {
      "needs_background": "light"
     },
     "output_type": "display_data"
    }
   ],
   "source": [
    "sns.boxplot(x='genre', y='gross', data=Top_200 );"
   ]
  },
  {
   "cell_type": "code",
   "execution_count": 63,
   "metadata": {},
   "outputs": [
    {
     "data": {
      "image/png": "[encoded data removed]",
      "text/plain": [
       "<Figure size 1080x360 with 1 Axes>"
      ]
     },
     "metadata": {
      "needs_background": "light"
     },
     "output_type": "display_data"
    }
   ],
   "source": [
    "sns.lmplot(x='year', y='budget', data=df_movies, aspect = 3);"
   ]
  },
  {
   "cell_type": "code",
   "execution_count": 65,
   "metadata": {},
   "outputs": [
    {
     "data": {
      "image/png": "[encoded data removed]",
      "text/plain": [
       "<Figure size 1080x360 with 1 Axes>"
      ]
     },
     "metadata": {
      "needs_background": "light"
     },
     "output_type": "display_data"
    }
   ],
   "source": [
    "sns.lmplot(x='year', y='gross', data = df_movies, aspect = 3);"
   ]
  },
  {
   "cell_type": "code",
   "execution_count": 69,
   "metadata": {},
   "outputs": [],
   "source": [
    "#the more money that you spend the more money you will make but you assume more risk."
   ]
  },
  {
   "cell_type": "markdown",
   "metadata": {},
   "source": [
    "# Movie Rating"
   ]
  },
  {
   "cell_type": "code",
   "execution_count": 71,
   "metadata": {},
   "outputs": [
    {
     "data": {
      "text/plain": [
       "R                3392\n",
       "PG-13            1995\n",
       "PG                951\n",
       "NOT RATED         174\n",
       "G                 147\n",
       "UNRATED            71\n",
       "Not specified      63\n",
       "NC-17              22\n",
       "B                   1\n",
       "TV-14               1\n",
       "B15                 1\n",
       "TV-MA               1\n",
       "TV-PG               1\n",
       "Name: rating, dtype: int64"
      ]
     },
     "execution_count": 71,
     "metadata": {},
     "output_type": "execute_result"
    }
   ],
   "source": [
    "df_movies['rating'].value_counts()"
   ]
  },
  {
   "cell_type": "code",
   "execution_count": 73,
   "metadata": {},
   "outputs": [
    {
     "data": {
      "image/png": "[encoded data removed]",
      "text/plain": [
       "<Figure size 432x288 with 1 Axes>"
      ]
     },
     "metadata": {
      "needs_background": "light"
     },
     "output_type": "display_data"
    }
   ],
   "source": [
    "#there are more R rated movies than anything else\n",
    "sns.countplot(x= 'rating', data=df_movies, hue='rating');"
   ]
  },
  {
   "cell_type": "code",
   "execution_count": 29,
   "metadata": {},
   "outputs": [],
   "source": [
    "# Now Let's check who is in competition"
   ]
  },
  {
   "cell_type": "code",
   "execution_count": null,
   "metadata": {},
   "outputs": [],
   "source": [
    "sns.catplot(x='company', y='gross', data=Top_100, hue='genre', kind='bar', aspect=3);"
   ]
  },
  {
   "cell_type": "markdown",
   "metadata": {},
   "source": [
    "# Findings:\n",
    "## Genre: Animation, Action, Adventure \n",
    "\n",
    "## Length: ~120 minutes\n",
    "\n",
    "## Director: Peter Jackson \n",
    "\n",
    "## Rating: PG-13\n",
    "\n",
    "## The data also suggests that the higher the budget gets over the years, so too does the profits from movies\n",
    "\n"
   ]
  },
  {
   "cell_type": "code",
   "execution_count": null,
   "metadata": {},
   "outputs": [],
   "source": []
  }
 ],
 "metadata": {
  "kernelspec": {
   "display_name": "Python 3",
   "language": "python",
   "name": "python3"
  },
  "language_info": {
   "codemirror_mode": {
    "name": "ipython",
    "version": 3
   },
   "file_extension": ".py",
   "mimetype": "text/x-python",
   "name": "python",
   "nbconvert_exporter": "python",
   "pygments_lexer": "ipython3",
   "version": "3.6.9"
  }
 },
 "nbformat": 4,
 "nbformat_minor": 2
}
